{
  "nbformat": 4,
  "nbformat_minor": 0,
  "metadata": {
    "colab": {
      "provenance": [],
      "authorship_tag": "ABX9TyMsUk+EvCZxZpf/fe2nEhXn",
      "include_colab_link": true
    },
    "kernelspec": {
      "name": "python3",
      "display_name": "Python 3"
    },
    "language_info": {
      "name": "python"
    }
  },
  "cells": [
    {
      "cell_type": "markdown",
      "metadata": {
        "id": "view-in-github",
        "colab_type": "text"
      },
      "source": [
        "<a href=\"https://colab.research.google.com/github/Agna11/2306145_Agna-Fadia_P6/blob/main/P6.ipynb\" target=\"_parent\"><img src=\"https://colab.research.google.com/assets/colab-badge.svg\" alt=\"Open In Colab\"/></a>"
      ]
    },
    {
      "cell_type": "code",
      "execution_count": 25,
      "metadata": {
        "colab": {
          "base_uri": "https://localhost:8080/"
        },
        "id": "OfkP0Cam5rq-",
        "outputId": "26ab05bd-9878-4f5e-e002-0193c37e1cf6"
      },
      "outputs": [
        {
          "output_type": "stream",
          "name": "stdout",
          "text": [
            "Requirement already satisfied: experta in /usr/local/lib/python3.11/dist-packages (1.9.4)\n",
            "Requirement already satisfied: frozendict==1.2 in /usr/local/lib/python3.11/dist-packages (from experta) (1.2)\n",
            "Requirement already satisfied: schema==0.6.7 in /usr/local/lib/python3.11/dist-packages (from experta) (0.6.7)\n"
          ]
        }
      ],
      "source": [
        "!pip install experta"
      ]
    },
    {
      "cell_type": "code",
      "source": [
        "!pip install --upgrade frozendict"
      ],
      "metadata": {
        "colab": {
          "base_uri": "https://localhost:8080/"
        },
        "id": "61ZBGgX_6Yst",
        "outputId": "59d17862-002d-43a3-b15e-b8f29c30adb9"
      },
      "execution_count": 26,
      "outputs": [
        {
          "output_type": "stream",
          "name": "stdout",
          "text": [
            "Requirement already satisfied: frozendict in /usr/local/lib/python3.11/dist-packages (1.2)\n",
            "Collecting frozendict\n",
            "  Using cached frozendict-2.4.6-py311-none-any.whl.metadata (23 kB)\n",
            "Using cached frozendict-2.4.6-py311-none-any.whl (16 kB)\n",
            "Installing collected packages: frozendict\n",
            "  Attempting uninstall: frozendict\n",
            "    Found existing installation: frozendict 1.2\n",
            "    Uninstalling frozendict-1.2:\n",
            "      Successfully uninstalled frozendict-1.2\n",
            "\u001b[31mERROR: pip's dependency resolver does not currently take into account all the packages that are installed. This behaviour is the source of the following dependency conflicts.\n",
            "experta 1.9.4 requires frozendict==1.2, but you have frozendict 2.4.6 which is incompatible.\u001b[0m\u001b[31m\n",
            "\u001b[0mSuccessfully installed frozendict-2.4.6\n"
          ]
        }
      ]
    },
    {
      "cell_type": "code",
      "source": [
        "from experta import *\n",
        "\n",
        "class Diagnosis(KnowledgeEngine):\n",
        "\n",
        "    @Rule(Fact(cough=True) & Fact(fever=True) & Fact(fatigue=True))\n",
        "    def flu(self):\n",
        "        print(\"Diagnosis: You may have the Flu.\")\n",
        "\n",
        "    @Rule(Fact(cough=True) & Fact(fever=True) & Fact(breathing_difficulty=True))\n",
        "    def pneumonia(self):\n",
        "        print(\"Diagnosis: You may have Pneumonia.\")\n",
        "\n",
        "    @Rule(Fact(sneezing=True) & Fact(runny_nose=True) & Fact(cough=False))\n",
        "    def cold(self):\n",
        "        print(\"Diagnosis: You may have a Common Cold.\")\n",
        "\n",
        "    @Rule(Fact(sore_throat=True) & Fact(fever=True))\n",
        "    def throat_infection(self):\n",
        "        print(\"Diagnosis: You may have a Throat Infection.\")\n",
        "\n",
        "    @Rule(Fact(cough=False) & Fact(fever=False) & Fact(fatigue=False))\n",
        "    def healthy(self):\n",
        "        print(\"Diagnosis: You seem to be healthy.\")\n",
        "\n",
        "    @Rule(Fact(headache=True) & Fact(runny_nose=True) & Fact(fatigue=True))\n",
        "    def sinusitis(self):\n",
        "        print(\"Diagnosis: You may have Sinusitis.\")\n",
        "\n",
        "    @Rule(Fact(fever=True) & Fact(cough=True) & Fact(loss_of_smell=True))\n",
        "    def covid(self):\n",
        "        print(\"Diagnosis: You may have COVID-19.\")\n",
        "\n",
        "    @Rule(Fact(sneezing=True) & Fact(runny_nose=True) & Fact(itchy_eyes=True))\n",
        "    def allergies(self):\n",
        "        print(\"Diagnosis: You may have Allergies.\")\n",
        "\n",
        "    @Rule(Fact(cough=True) & Fact(chest_discomfort=True) & Fact(fatigue=True))\n",
        "    def bronchitis(self):\n",
        "        print(\"Diagnosis: You may have Bronchitis.\")\n",
        "\n",
        "\n",
        "def get_input():\n",
        "    def ask(question):\n",
        "        return input(question + \" (yes/no): \").strip().lower() == \"yes\"\n",
        "\n",
        "    return {\n",
        "        \"cough\": ask(\"Do you have a cough?\"),\n",
        "        \"fever\": ask(\"Do you have a fever?\"),\n",
        "        \"fatigue\": ask(\"Do you feel fatigued?\"),\n",
        "        \"breathing_difficulty\": ask(\"Do you have breathing difficulties?\"),\n",
        "        \"sneezing\": ask(\"Are you sneezing?\"),\n",
        "        \"runny_nose\": ask(\"Do you have a runny nose?\"),\n",
        "        \"sore_throat\": ask(\"Do you have a sore throat?\"),\n",
        "        \"headache\": ask(\"Do you have a headache?\"),\n",
        "        \"loss_of_smell\": ask(\"Have you lost your sense of smell?\"),\n",
        "        \"itchy_eyes\": ask(\"Do you have itchy eyes?\"),\n",
        "        \"chest_discomfort\": ask(\"Do you feel discomfort in your chest?\")\n",
        "    }\n",
        "\n",
        "if __name__ == \"__main__\":\n",
        "    symptoms = get_input()\n",
        "    engine = Diagnosis()\n",
        "    engine.reset()\n",
        "    engine.declare(Fact(**symptoms))\n",
        "    engine.run()"
      ],
      "metadata": {
        "id": "Vprz17Kg64WM",
        "colab": {
          "base_uri": "https://localhost:8080/"
        },
        "outputId": "05ae4690-298a-47bc-beb5-85f9f3e48637"
      },
      "execution_count": 30,
      "outputs": [
        {
          "output_type": "stream",
          "name": "stdout",
          "text": [
            "Do you have a cough? (yes/no): yes\n",
            "Do you have a fever? (yes/no): yes\n",
            "Do you feel fatigued? (yes/no): yes\n",
            "Do you have breathing difficulties? (yes/no): yes\n",
            "Are you sneezing? (yes/no): yes\n",
            "Do you have a runny nose? (yes/no): no\n",
            "Do you have a sore throat? (yes/no): no\n",
            "Do you have a headache? (yes/no): no\n",
            "Have you lost your sense of smell? (yes/no): yes\n",
            "Do you have itchy eyes? (yes/no): no\n",
            "Do you feel discomfort in your chest? (yes/no): no\n",
            "Diagnosis: You may have COVID-19.\n",
            "Diagnosis: You may have Pneumonia.\n",
            "Diagnosis: You may have the Flu.\n"
          ]
        }
      ]
    },
    {
      "cell_type": "code",
      "source": [],
      "metadata": {
        "id": "B4nZ_SPEFCne"
      },
      "execution_count": null,
      "outputs": []
    },
    {
      "cell_type": "code",
      "source": [
        "from experta import *\n",
        "\n",
        "class SistemPakarMedis(KnowledgeEngine):\n",
        "\n",
        "    @Rule(Fact(demam=True) & Fact(batuk=True))\n",
        "    def flu(self):\n",
        "        print(\"Diagnosis: Flu.\")\n",
        "\n",
        "    @Rule(Fact(sakit_tenggorokan=True) & Fact(demam=True))\n",
        "    def throat_infection(self):\n",
        "        print(\"Diagnosis: Radang Tenggorokan.\")\n",
        "\n",
        "# Running the Expert System\n",
        "engine = SistemPakarMedis()\n",
        "engine.reset()\n",
        "engine.declare(Fact(demam=True))\n",
        "engine.declare(Fact(sakit_tenggorokan=True))  # Input symptoms\n",
        "engine.run()\n"
      ],
      "metadata": {
        "colab": {
          "base_uri": "https://localhost:8080/"
        },
        "id": "KAE3LVdEEGaM",
        "outputId": "2d887842-b503-4871-b780-cd1bca06933b"
      },
      "execution_count": 28,
      "outputs": [
        {
          "output_type": "stream",
          "name": "stdout",
          "text": [
            "Diagnosis: Radang Tenggorokan.\n"
          ]
        }
      ]
    },
    {
      "cell_type": "code",
      "source": [
        "def forward_chaining(facts, rules):\n",
        "    inferred = set(facts)\n",
        "    changed = True\n",
        "\n",
        "    while changed:\n",
        "        changed = False\n",
        "        for rule in rules:\n",
        "            if rule[\"if\"].issubset(inferred) and rule[\"then\"] not in inferred:\n",
        "                inferred.add(rule[\"then\"])\n",
        "                changed = True\n",
        "    return inferred\n",
        "\n",
        "facts = {\"has_feathers\", \"has_beak\", \"carnivore\"}\n",
        "rules = [\n",
        "    {\"if\": {\"has_feathers\", \"has_beak\"}, \"then\": \"is_bird\"},\n",
        "    {\"if\": {\"lays_eggs\", \"is_bird\"}, \"then\": \"is_chicken\"},\n",
        "    {\"if\": {\"cannot_fly\", \"is_bird\"}, \"then\": \"is_penguin\"},\n",
        "    {\"if\": {\"carnivore\", \"is_bird\"}, \"then\": \"is_eagle\"}\n",
        "]\n",
        "\n",
        "\n",
        "result = forward_chaining(facts, rules)\n",
        "print(\"Inferred facts:\", result)"
      ],
      "metadata": {
        "colab": {
          "base_uri": "https://localhost:8080/"
        },
        "id": "eo38WLuEJAtQ",
        "outputId": "2aa753be-f44a-4e75-e3c0-44fc840384d8"
      },
      "execution_count": 22,
      "outputs": [
        {
          "output_type": "stream",
          "name": "stdout",
          "text": [
            "Inferred facts: {'is_bird', 'is_eagle', 'has_feathers', 'carnivore', 'has_beak'}\n"
          ]
        }
      ]
    },
    {
      "cell_type": "code",
      "source": [
        "from experta import *\n",
        "\n",
        "class CareerExpert(KnowledgeEngine):\n",
        "\n",
        "    @Rule(Fact(career=\"Software Engineer\"),\n",
        "          Fact(logic=True), Fact(math=True), Fact(coding=True))\n",
        "    def software_engineer(self):\n",
        "        print(\"You qualify to be a Software Engineer!\")\n",
        "\n",
        "    @Rule(Fact(career=\"Doctor\"),\n",
        "          Fact(medical=True), Fact(science=True), Fact(problem_solving=True))\n",
        "    def doctor(self):\n",
        "        print(\"You qualify to be a Doctor!\")\n",
        "\n",
        "# Running the Expert System\n",
        "engine = CareerExpert()\n",
        "engine.reset()\n",
        "\n",
        "# Set a goal: Check if the user can be a Software Engineer\n",
        "engine.declare(Fact(career=\"Doctor\"))\n",
        "engine.declare(Fact(medical=True))\n",
        "engine.declare(Fact(science=True))\n",
        "engine.declare(Fact(problem_solving=True))  # Skills possessed\n",
        "\n",
        "engine.run()"
      ],
      "metadata": {
        "colab": {
          "base_uri": "https://localhost:8080/"
        },
        "id": "zAIQylSHL7HG",
        "outputId": "78b27664-266d-495a-d662-9e1fe23b14d3"
      },
      "execution_count": 29,
      "outputs": [
        {
          "output_type": "stream",
          "name": "stdout",
          "text": [
            "You qualify to be a Doctor!\n"
          ]
        }
      ]
    },
    {
      "cell_type": "code",
      "source": [
        "def backward_chaining(goal, facts, rules):\n",
        "    if goal in facts:\n",
        "        return True\n",
        "    for rule in rules:\n",
        "        if rule[\"then\"] == goal:\n",
        "            if all(backward_chaining(cond, facts, rules) for cond in rule[\"if\"]):\n",
        "                return True\n",
        "    return False\n",
        "\n",
        "facts = {\"likes_computers\", \"solves_problems\"}\n",
        "rules = [\n",
        "    {\"if\": {\"likes_computers\", \"solves_problems\"}, \"then\": \"should_be_engineer\"},\n",
        "    {\"if\": {\"should_be_engineer\", \"likes_programming\"}, \"then\": \"software_engineer\"}\n",
        "]\n",
        "\n",
        "goal = \"software_engineer\"\n",
        "result = backward_chaining(goal, facts, rules)\n",
        "print(f\"Is '{goal}' provable? ->\", result)"
      ],
      "metadata": {
        "colab": {
          "base_uri": "https://localhost:8080/"
        },
        "id": "NrDIoyyDQb6a",
        "outputId": "346c9209-49a1-4a2c-a9db-79ee17ec3e03"
      },
      "execution_count": null,
      "outputs": [
        {
          "output_type": "stream",
          "name": "stdout",
          "text": [
            "Is 'software_engineer' provable? -> False\n"
          ]
        }
      ]
    },
    {
      "cell_type": "code",
      "source": [
        "def forward_chaining(facts, rules):\n",
        "    inferred = set(facts)\n",
        "    changed = True\n",
        "\n",
        "    while changed:\n",
        "        changed = False\n",
        "        for rule in rules:\n",
        "            if rule[\"if\"].issubset(inferred) and rule[\"then\"] not in inferred:\n",
        "                inferred.add(rule[\"then\"])\n",
        "                changed = True\n",
        "    return inferred\n",
        "\n",
        "facts = {\"has_wheels\", \"has_engine\", \"has_four_wheels Rules\"}\n",
        "rules = [\n",
        "    {\"if\": {\"has_wheels\", \"has_engine\"}, \"then\": \"is_vehicle\"},\n",
        "    {\"if\": {\"is_vehicle\", \"has_two_wheels\"}, \"then\": \"is_motorcycle\"},\n",
        "    {\"if\": {\"is_vehicle\", \"has_four_wheels\"}, \"then\": \"is_car\"}\n",
        "]\n",
        "result = forward_chaining(facts, rules)\n",
        "print(\"Inferred facts:\", result)"
      ],
      "metadata": {
        "colab": {
          "base_uri": "https://localhost:8080/"
        },
        "id": "izpuUTTKRuj5",
        "outputId": "8db8efee-b145-4177-be14-3ceb4b3f870e"
      },
      "execution_count": null,
      "outputs": [
        {
          "output_type": "stream",
          "name": "stdout",
          "text": [
            "Inferred facts: {'has_engine', 'has_four_wheels Rules', 'is_vehicle', 'has_wheels'}\n"
          ]
        }
      ]
    }
  ]
}